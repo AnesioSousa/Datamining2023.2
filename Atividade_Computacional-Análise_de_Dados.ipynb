{
 "cells": [
  {
   "attachments": {},
   "cell_type": "markdown",
   "metadata": {},
   "source": [
    "<p>Universidade Estadual de Feira de Santana <br>\n",
    "Discente: Anésio Neto  <br>\n",
    "EXA 864 Mineração de Dados  <br>\n",
    "Angelo Loula</p>\n",
    "\n",
    "<h3 style=\"text-align: center;\">Atividade Computacional - Análise de Dados</h3>"
   ]
  },
  {
   "attachments": {},
   "cell_type": "markdown",
   "metadata": {},
   "source": [
    "<p>Introdução</p>"
   ]
  },
  {
   "cell_type": "code",
   "execution_count": 81,
   "metadata": {},
   "outputs": [],
   "source": [
    "import pandas as pd\n",
    "\n",
    "enemdf = pd.read_csv('./MICRODADOS_ENEM_2022.csv', nrows = 200, encoding='cp1252', delimiter=';')"
   ]
  },
  {
   "attachments": {},
   "cell_type": "markdown",
   "metadata": {},
   "source": [
    "QUESTÃO 1:"
   ]
  },
  {
   "attachments": {},
   "cell_type": "markdown",
   "metadata": {},
   "source": [
    "COMO CONSEGUI CONHECER OS DADOS RELACIONADOS À QUESTÃO:"
   ]
  },
  {
   "cell_type": "code",
   "execution_count": 82,
   "metadata": {},
   "outputs": [
    {
     "data": {
      "text/plain": [
       "array(['Nossa Senhora da Glória', 'Estância', 'Gararu', 'Carira'],\n",
       "      dtype=object)"
      ]
     },
     "execution_count": 82,
     "metadata": {},
     "output_type": "execute_result"
    }
   ],
   "source": [
    "\"\"\"\n",
    "-------------------Regiões do Brasil----------------\n",
    "1 - NORTE\n",
    "2 - NORDESTE\n",
    "3 - SUDESTE\n",
    "4 - SUL\n",
    "5 - CENTRO-OESTE\n",
    "\n",
    "\n",
    "-------------------Estados do Nordeste----------------\n",
    "21 - MARANHÃO\n",
    "22 - PIAUÍ\n",
    "23 - CEARÁ\n",
    "24 - RIO GRANDE DO NORTE\n",
    "25 - PARAÍBA\n",
    "26 - PERNAMBUCO\n",
    "27 - ALAGOAS\n",
    "28 - SERGIPE\n",
    "29 - BAHIA\n",
    "\"\"\"\n",
    "\n",
    "filtered_df = enemdf[enemdf['CO_MUNICIPIO_PROVA'].astype(str).str.startswith('28')]\n",
    "df = filtered_df[\"NO_MUNICIPIO_PROVA\"].unique()\n",
    "\n",
    "df"
   ]
  },
  {
   "cell_type": "code",
   "execution_count": 80,
   "metadata": {},
   "outputs": [
    {
     "data": {
      "text/plain": [
       "array(['Nossa Senhora da Glória', 'Estância', 'Gararu', 'Carira'],\n",
       "      dtype=object)"
      ]
     },
     "execution_count": 80,
     "metadata": {},
     "output_type": "execute_result"
    }
   ],
   "source": [
    "\n",
    "#os.path.getsize('./MICRODADOS_ENEM_2022.csv') \n",
    "\n",
    "chunksize = 1000\n",
    "#Return the memory usage of each column in bytes.\n",
    "enemdf_size = enemdf.memory_usage(index=True).sum() \n",
    "\n",
    "my_chunk = (1000000000 / enemdf_size)/250 \n",
    "my_chunk = int(my_chunk//1)\n",
    "\n",
    "\n",
    "# create the iterator\n",
    "iter_csv = pd.read_csv(\n",
    "    './MICRODADOS_ENEM_2022.csv', \n",
    "    iterator=True, \n",
    "    chunksize=my_chunk,\n",
    "    encoding='cp1252',\n",
    "    delimiter=';')\n",
    "\n",
    "# concatenate according to a filter to our result dataframe\n",
    "df_result = pd.concat(\n",
    "    [chunk[chunk['NO_MUNICIPIO_PROVA'].str.lower().str.startswith(\"boa vista\")]\n",
    "    for chunk in iter_csv])\n",
    "\n",
    "#enemdf[\"NO_MUNICIPIO_PROVA\"].unique()\n",
    "#filtered_df = enemdf[enemdf['CO_MUNICIPIO_PROVA'] == 2919207]\n",
    "#filtered_df[[\"CO_MUNICIPIO_PROVA\", \"NO_MUNICIPIO_PROVA\"]]\n",
    "#filtered_df = enemdf[enemdf['CO_MUNICIPIO_PROVA'].astype(str).str.startswith('29')]\n",
    "#\n",
    "df_result.to_csv('filtered_data.csv', index=False)"
   ]
  }
 ],
 "metadata": {
  "kernelspec": {
   "display_name": "Python 3",
   "language": "python",
   "name": "python3"
  },
  "language_info": {
   "codemirror_mode": {
    "name": "ipython",
    "version": 3
   },
   "file_extension": ".py",
   "mimetype": "text/x-python",
   "name": "python",
   "nbconvert_exporter": "python",
   "pygments_lexer": "ipython3",
   "version": "3.10.6"
  },
  "orig_nbformat": 4
 },
 "nbformat": 4,
 "nbformat_minor": 2
}
