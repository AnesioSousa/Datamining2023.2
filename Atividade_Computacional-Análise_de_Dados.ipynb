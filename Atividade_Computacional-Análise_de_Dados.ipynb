{
 "cells": [
  {
   "attachments": {},
   "cell_type": "markdown",
   "metadata": {},
   "source": [
    "<p>Universidade Estadual de Feira de Santana <br>\n",
    "Discente: Anésio Neto  <br>\n",
    "EXA 864 Mineração de Dados  <br>\n",
    "Angelo Loula</p>\n",
    "\n",
    "<h2 style=\"text-align: center;\">Atividade Computacional - Análise de Dados</h2>"
   ]
  },
  {
   "attachments": {},
   "cell_type": "markdown",
   "metadata": {},
   "source": [
    "<h4>0: Coisas a fazer antes de reponder as questões</h4>"
   ]
  },
  {
   "attachments": {},
   "cell_type": "markdown",
   "metadata": {},
   "source": [
    "https://onlinemathtools.com/find-all-divisors"
   ]
  },
  {
   "cell_type": "code",
   "execution_count": 2,
   "metadata": {},
   "outputs": [],
   "source": [
    "import pandas as pd\n",
    "import psutil"
   ]
  },
  {
   "attachments": {},
   "cell_type": "markdown",
   "metadata": {},
   "source": [
    "<li>Quanto de memória tenho disponivel (<code>em bytes</code>):</li>"
   ]
  },
  {
   "cell_type": "code",
   "execution_count": 4,
   "metadata": {},
   "outputs": [
    {
     "name": "stdout",
     "output_type": "stream",
     "text": [
      "545615872\n"
     ]
    }
   ],
   "source": [
    "svmem = psutil.virtual_memory()\n",
    "print(svmem.available)"
   ]
  },
  {
   "attachments": {},
   "cell_type": "markdown",
   "metadata": {},
   "source": [
    "<li>Quanto come cada chunk:</li>"
   ]
  },
  {
   "cell_type": "code",
   "execution_count": 34,
   "metadata": {},
   "outputs": [
    {
     "name": "stdout",
     "output_type": "stream",
     "text": [
      "6208\n"
     ]
    }
   ],
   "source": [
    "enemdf_sample = pd.read_csv('./MICRODADOS_ENEM_2022.csv', nrows=10, encoding='cp1252', delimiter=';')\n",
    "enemdf_sample_size = enemdf_sample.memory_usage(index=True).sum()\n",
    "print (enemdf_sample_size)"
   ]
  },
  {
   "cell_type": "code",
   "execution_count": 14,
   "metadata": {},
   "outputs": [
    {
     "name": "stdout",
     "output_type": "stream",
     "text": [
      "16.841556984617924\n"
     ]
    }
   ],
   "source": [
    "print((enemdf_sample_size/svmem.available)*100)"
   ]
  },
  {
   "cell_type": "code",
   "execution_count": 35,
   "metadata": {},
   "outputs": [
    {
     "name": "stdout",
     "output_type": "stream",
     "text": [
      "16108\n"
     ]
    }
   ],
   "source": [
    "# define a chunksize that would occupy a maximum of 1Gb\n",
    "# we divide by 10 because we have selected 10 lines in our df_sample\n",
    "my_chunk = (1000000000 / enemdf_sample_size)/10\n",
    "my_chunk = int(my_chunk//1)\n",
    "print (my_chunk)"
   ]
  },
  {
   "cell_type": "code",
   "execution_count": null,
   "metadata": {},
   "outputs": [],
   "source": [
    "for chunk in pd.read_csv('./MICRODADOS_ENEM_2022.csv', chunksize=151135, encoding='cp1252', delimiter=';'):\n",
    "    # concatenate according to a filter to our result dataframe\n",
    "    iter_csv = chunk.__iter__\n",
    "    \n",
    "    print(iter_csv)\n",
    "    "
   ]
  },
  {
   "cell_type": "code",
   "execution_count": null,
   "metadata": {},
   "outputs": [],
   "source": []
  },
  {
   "attachments": {},
   "cell_type": "markdown",
   "metadata": {},
   "source": [
    "<h4><span>1</span>: Filtragem e amostragem dos dados</h4>"
   ]
  },
  {
   "attachments": {},
   "cell_type": "markdown",
   "metadata": {},
   "source": [
    "COMO CONSEGUI CONHECER OS DADOS RELACIONADOS À QUESTÃO:"
   ]
  },
  {
   "attachments": {},
   "cell_type": "markdown",
   "metadata": {},
   "source": [
    "\n",
    "<p>-------------------Regiões do Brasil----------------\n",
    " <ol>\n",
    "    <li>NORTE</li>\n",
    "    <li>NORDESTE</li>\n",
    "    <li>SUDESTE</li>\n",
    "    <li>SUL</li>\n",
    "    <li>CENTRO-OESTE</li>\n",
    " </ol>\n",
    "</p>\n",
    "<p>-------------------Estados do Nordeste----------------\n",
    "    <ol start=\"21\">\n",
    "       <li>MARANHÃO</li>\n",
    "       <li>PIAUÍ</li>\n",
    "       <li>CEARÁ</li>\n",
    "       <li>RIO GRANDE DO NORTE</li>\n",
    "       <li>PARAÍBA</li>\n",
    "       <li>PERNAMBUCO</li>\n",
    "       <li>ALAGOAS</li>\n",
    "       <li>SERGIPE</li>\n",
    "       <li>BAHIA</li>\n",
    "    </ol>\n",
    "</p>\n",
    "<p>\n",
    "-------------------Cidades Escolhidas----------------\n",
    " <ol>\n",
    "  <li>FEIRA DE SANTANA-2910800</li>\n",
    " </ol>\n",
    "</p>"
   ]
  },
  {
   "cell_type": "code",
   "execution_count": null,
   "metadata": {},
   "outputs": [],
   "source": [
    "bahia_df = enemdf[enemdf['CO_MUNICIPIO_PROVA'].astype(str).str.startswith('29')]\n",
    "\n",
    "#feira_df = bahia_df[bahia_df['CO_MUNICIPIO_PROVA'].astype(str).str.startswith('29108')]\n",
    "bahia_df[\"NO_MUNICIPIO_PROVA\"].unique()\n"
   ]
  },
  {
   "cell_type": "code",
   "execution_count": null,
   "metadata": {},
   "outputs": [],
   "source": [
    "\n",
    "#os.path.getsize('./MICRODADOS_ENEM_2022.csv') \n",
    "\n",
    "chunksize = 1000\n",
    "#Return the memory usage of each column in bytes.\n",
    "enemdf_size = enemdf.memory_usage(index=True).sum() \n",
    "\n",
    "my_chunk = (1000000000 / enemdf_size)/250 \n",
    "my_chunk = int(my_chunk//1)\n",
    "\n",
    "\n",
    "# create the iterator\n",
    "iter_csv = pd.read_csv(\n",
    "    './MICRODADOS_ENEM_2022.csv', \n",
    "    iterator=True, \n",
    "    chunksize=my_chunk,\n",
    "    encoding='cp1252',\n",
    "    delimiter=';')\n",
    "\n",
    "# concatenate according to a filter to our result dataframe\n",
    "df_result = pd.concat(\n",
    "    [chunk[chunk['NO_MUNICIPIO_PROVA'].str.lower().str.startswith(\"boa vista\")]\n",
    "    for chunk in iter_csv])\n",
    "\n",
    "#enemdf[\"NO_MUNICIPIO_PROVA\"].unique()\n",
    "#filtered_df = enemdf[enemdf['CO_MUNICIPIO_PROVA'] == 2919207]\n",
    "#filtered_df[[\"CO_MUNICIPIO_PROVA\", \"NO_MUNICIPIO_PROVA\"]]\n",
    "#filtered_df = enemdf[enemdf['CO_MUNICIPIO_PROVA'].astype(str).str.startswith('29')]"
   ]
  }
 ],
 "metadata": {
  "kernelspec": {
   "display_name": "Python 3",
   "language": "python",
   "name": "python3"
  },
  "language_info": {
   "codemirror_mode": {
    "name": "ipython",
    "version": 3
   },
   "file_extension": ".py",
   "mimetype": "text/x-python",
   "name": "python",
   "nbconvert_exporter": "python",
   "pygments_lexer": "ipython3",
   "version": "3.10.6"
  },
  "orig_nbformat": 4
 },
 "nbformat": 4,
 "nbformat_minor": 2
}
