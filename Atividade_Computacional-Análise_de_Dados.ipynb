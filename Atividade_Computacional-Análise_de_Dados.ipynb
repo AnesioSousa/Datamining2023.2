{
 "cells": [
  {
   "attachments": {},
   "cell_type": "markdown",
   "metadata": {},
   "source": [
    "<p>Universidade Estadual de Feira de Santana <br>\n",
    "Discente: Anésio Neto  <br>\n",
    "EXA 864 Mineração de Dados  <br>\n",
    "Angelo Loula</p>\n",
    "\n",
    "<h2 style=\"text-align: center;\">Atividade Computacional - Análise de Dados</h2>"
   ]
  },
  {
   "attachments": {},
   "cell_type": "markdown",
   "metadata": {},
   "source": [
    "<h4>0: Coisas a fazer antes de reponder as questões</h4>"
   ]
  },
  {
   "attachments": {},
   "cell_type": "markdown",
   "metadata": {},
   "source": [
    "https://onlinemathtools.com/find-all-divisors"
   ]
  },
  {
   "attachments": {},
   "cell_type": "markdown",
   "metadata": {},
   "source": [
    "https://g1.globo.com/ba/bahia/noticia/2023/06/28/censo-2022-bahia-mantem-4a-maior-populacao-do-pais-mas-cresce-abaixo-da-media-nacional.ghtml"
   ]
  },
  {
   "attachments": {},
   "cell_type": "markdown",
   "metadata": {},
   "source": [
    "https://oglobo.globo.com/brasil/sao-paulo/noticia/2023/06/censo-2022-veja-a-lista-das-10-maiores-e-menores-cidades-de-sao-paulo.ghtml"
   ]
  },
  {
   "cell_type": "code",
   "execution_count": null,
   "metadata": {},
   "outputs": [],
   "source": [
    "import pandas as pd\n",
    "import psutil"
   ]
  },
  {
   "attachments": {},
   "cell_type": "markdown",
   "metadata": {},
   "source": [
    "<h4><span>1</span>: Filtragem e amostragem dos dados</h4>\n"
   ]
  },
  {
   "attachments": {},
   "cell_type": "markdown",
   "metadata": {},
   "source": [
    "COMO CONSEGUI CONHECER OS DADOS RELACIONADOS À QUESTÃO:"
   ]
  },
  {
   "attachments": {},
   "cell_type": "markdown",
   "metadata": {},
   "source": [
    "\n",
    "<p>-------------------Regiões do Brasil----------------\n",
    " <ol>\n",
    "    <li>NORTE</li>\n",
    "    <li>NORDESTE</li>\n",
    "    <li>SUDESTE</li>\n",
    "    <li>SUL</li>\n",
    "    <li>CENTRO-OESTE</li>\n",
    " </ol>\n",
    "</p>\n",
    "<p>-------------------Estados do Nordeste----------------\n",
    "    <ol start=\"21\">\n",
    "       <li>MARANHÃO</li>\n",
    "       <li>PIAUÍ</li>\n",
    "       <li>CEARÁ</li>\n",
    "       <li>RIO GRANDE DO NORTE</li>\n",
    "       <li>PARAÍBA</li>\n",
    "       <li>PERNAMBUCO</li>\n",
    "       <li>ALAGOAS</li>\n",
    "       <li>SERGIPE</li>\n",
    "       <li>BAHIA</li>\n",
    "    </ol>\n",
    "</p>\n",
    "<p>-------------------Estados do Sudeste----------------\n",
    "    <ol start=\"31\">\n",
    "       <li>Minas Gerais</li>\n",
    "       <li>Vila Velha</li>\n",
    "       <li>Rio de Janeiro</li>\n",
    "           35.São Paulo\n",
    "    </ol>\n",
    "</p>"
   ]
  },
  {
   "cell_type": "code",
   "execution_count": null,
   "metadata": {},
   "outputs": [],
   "source": [
    "\"\"\"\n",
    "-------------------Cidades Escolhidas----------------\n",
    "2927408 - Salvador\n",
    "2910800 - Feira de Santana\n",
    "2933307 - Vitória da Conquista\n",
    "2905701 - Camaçari\n",
    "2918407 - Juazeiro\n",
    "2919207 - Lauro de Freitas\n",
    "2914802 - Itabuna\n",
    "2913606 - Ilhéus\n",
    "2925303 - Porto Seguro\n",
    "\n",
    "\n",
    "3552205 - Sorocaba\n",
    "3534401 - Osasco\n",
    "3543402 - Ribeirão Preto\n",
    "3549805 - São José do Rio Preto\n",
    "3549904 - São José dos Campos\n",
    "3534401 - Guarulhos\n",
    "\"\"\"\n",
    "\n",
    "i = 0\n",
    "amgResultList = []\n",
    "for chunk in pd.read_csv('./MICRODADOS_ENEM_2022.csv', chunksize=151135, encoding='cp1252', delimiter=';'):\n",
    "    # concatenate according to a filter to our result dataframe\n",
    "    municipios = [\n",
    "        2927408,\n",
    "        2910800, \n",
    "        2933307, \n",
    "        2905701, \n",
    "        2918407, \n",
    "        2919207, \n",
    "        2914802, \n",
    "        2913606, \n",
    "        2925303, \n",
    "        3552205, \n",
    "        3534401, \n",
    "        3543402, \n",
    "        3549805, \n",
    "        3549904,\n",
    "        3534401,\n",
    "    ] \n",
    "    processed_chunk = chunk[chunk['CO_MUNICIPIO_PROVA'].isin(municipios)]\n",
    "    amgResultList.append(processed_chunk)\n",
    "    i+=1\n",
    "\n",
    "result_df = pd.concat(amgResultList, axis=0)\n",
    "result_df.to_csv('dataset.csv', index=False)\n",
    "print('was %d times.'%i)"
   ]
  },
  {
   "cell_type": "code",
   "execution_count": null,
   "metadata": {},
   "outputs": [],
   "source": [
    "dataset= pd.read_csv('./dataset.csv')\n",
    "dataset"
   ]
  },
  {
   "cell_type": "code",
   "execution_count": null,
   "metadata": {},
   "outputs": [],
   "source": [
    "#Random state está setado para o senhor poder reproduzir os resultados quando for executar\n",
    "sample = dataset.sample(frac=0.75, random_state=1)\n",
    "sample"
   ]
  },
  {
   "attachments": {},
   "cell_type": "markdown",
   "metadata": {},
   "source": [
    "<h4><span>2</span>: Quais são os tipos de dados dos atributos disponíveis na base?</h4>\n"
   ]
  },
  {
   "attachments": {},
   "cell_type": "markdown",
   "metadata": {},
   "source": [
    "<h4><span>3</span>: Quais são as cidades das escolas dos inscritos com dados disponíveis na base? Quais são as cidades de aplicação de provas com dados disponíveis na base? Quantos candidatos há nas cidades das escolas e nas cidades de aplicação?Compare e discuta os resultados.</h4>"
   ]
  },
  {
   "cell_type": "code",
   "execution_count": null,
   "metadata": {},
   "outputs": [],
   "source": [
    "sample[\"NO_MUNICIPIO_ESC\"].unique()"
   ]
  },
  {
   "cell_type": "code",
   "execution_count": null,
   "metadata": {},
   "outputs": [],
   "source": [
    "sample[\"NO_MUNICIPIO_PROVA\"].unique()"
   ]
  },
  {
   "cell_type": "code",
   "execution_count": null,
   "metadata": {},
   "outputs": [],
   "source": [
    "sample[sample[\"CO_MUNICIPIO_PROVA\"] == sample[\"CO_MUNICIPIO_ESC\"]][[\"NO_MUNICIPIO_PROVA\",\"NO_MUNICIPIO_ESC\"]]"
   ]
  },
  {
   "attachments": {},
   "cell_type": "markdown",
   "metadata": {},
   "source": [
    "<h4><span>4</span>: Escolha duas cidades das escolas. Para cada cidade, calcule a tendência central (média, mediana e/ou moda, conforme possibilidade) e desvio padrão de nota de redação para os inscritos. Que análise pode ser feita observando os valores obtidos?\n",
    "</h4>"
   ]
  },
  {
   "attachments": {},
   "cell_type": "markdown",
   "metadata": {},
   "source": [
    "<li>Feira de Santana:</li>"
   ]
  },
  {
   "cell_type": "code",
   "execution_count": 21,
   "metadata": {},
   "outputs": [],
   "source": [
    "feira_sample = sample[sample[\"NO_MUNICIPIO_PROVA\"] == \"Feira de Santana\"]\n",
    "ribeirao_sample = sample[sample[\"NO_MUNICIPIO_PROVA\"] == \"Ribeirão Preto\"]"
   ]
  },
  {
   "attachments": {},
   "cell_type": "markdown",
   "metadata": {},
   "source": [
    "Média:"
   ]
  },
  {
   "cell_type": "code",
   "execution_count": null,
   "metadata": {},
   "outputs": [],
   "source": [
    "media_redacao = feira_sample['NU_NOTA_REDACAO'].mean()\n",
    "media_redacao"
   ]
  },
  {
   "cell_type": "code",
   "execution_count": null,
   "metadata": {},
   "outputs": [],
   "source": [
    "media_redacao = ribeirao_sample['NU_NOTA_REDACAO'].mean()\n",
    "media_redacao"
   ]
  },
  {
   "attachments": {},
   "cell_type": "markdown",
   "metadata": {},
   "source": [
    "Mediana:"
   ]
  },
  {
   "cell_type": "code",
   "execution_count": null,
   "metadata": {},
   "outputs": [],
   "source": [
    "mediana_redacao = feira_sample['NU_NOTA_REDACAO'].median()\n",
    "mediana_redacao"
   ]
  },
  {
   "cell_type": "code",
   "execution_count": null,
   "metadata": {},
   "outputs": [],
   "source": [
    "mediana_redacao = ribeirao_sample['NU_NOTA_REDACAO'].median()\n",
    "mediana_redacao"
   ]
  },
  {
   "attachments": {},
   "cell_type": "markdown",
   "metadata": {},
   "source": [
    "Moda:"
   ]
  },
  {
   "cell_type": "code",
   "execution_count": null,
   "metadata": {},
   "outputs": [],
   "source": [
    "mediana_redacao = feira_sample['NU_NOTA_REDACAO'].mode()\n",
    "mediana_redacao"
   ]
  },
  {
   "cell_type": "code",
   "execution_count": null,
   "metadata": {},
   "outputs": [],
   "source": [
    "mediana_redacao = ribeirao_sample['NU_NOTA_REDACAO'].mode()\n",
    "mediana_redacao"
   ]
  },
  {
   "attachments": {},
   "cell_type": "markdown",
   "metadata": {},
   "source": [
    "Desvio padrão:"
   ]
  },
  {
   "cell_type": "code",
   "execution_count": 30,
   "metadata": {},
   "outputs": [
    {
     "data": {
      "text/plain": [
       "203.01183999563517"
      ]
     },
     "execution_count": 30,
     "metadata": {},
     "output_type": "execute_result"
    }
   ],
   "source": [
    "desvio_padrao = pd.concat([feira_sample, ribeirao_sample], ignore_index=True)['NU_NOTA_REDACAO'].std()\n",
    "desvio_padrao"
   ]
  },
  {
   "attachments": {},
   "cell_type": "markdown",
   "metadata": {},
   "source": [
    "<p style=\"color: red;\">A partir daqui vem células de utilidade</p>"
   ]
  },
  {
   "attachments": {},
   "cell_type": "markdown",
   "metadata": {},
   "source": [
    "<li>Quanto de memória tenho disponivel (<code>em bytes</code>):</li>"
   ]
  },
  {
   "cell_type": "code",
   "execution_count": null,
   "metadata": {},
   "outputs": [],
   "source": [
    "svmem = psutil.virtual_memory()\n",
    "print(svmem.available)"
   ]
  },
  {
   "cell_type": "code",
   "execution_count": 9,
   "metadata": {},
   "outputs": [],
   "source": [
    "dataset = pd.read_csv('./MICRODADOS_ENEM_2022.csv', encoding='cp1252', nrows=100000, delimiter=';')\n"
   ]
  },
  {
   "cell_type": "code",
   "execution_count": null,
   "metadata": {},
   "outputs": [],
   "source": [
    "municipios = [2910800, 2933307, 2905701, 2918407, 2919207, 2914802, 2913606, 2925303, 3543402, 3534401] \n",
    "df_filtrado = d[d['CO_MUNICIPIO_PROVA'].isin(municipios)]\n",
    "df_filtrado"
   ]
  },
  {
   "cell_type": "code",
   "execution_count": null,
   "metadata": {},
   "outputs": [],
   "source": [
    "#filtered = dataset[dataset['NO_MUNICIPIO_PROVA'] == 'Salvador']\n",
    "filtered = dataset[dataset['CO_MUNICIPIO_PROVA'].astype(str).str.startswith('29')]\n",
    "filtered['NO_MUNICIPIO_PROVA'].unique()\n",
    "filtered[filtered['NO_MUNICIPIO_PROVA'] == \"Salvador\"]['CO_MUNICIPIO_PROVA']"
   ]
  }
 ],
 "metadata": {
  "kernelspec": {
   "display_name": "Python 3",
   "language": "python",
   "name": "python3"
  },
  "language_info": {
   "codemirror_mode": {
    "name": "ipython",
    "version": 3
   },
   "file_extension": ".py",
   "mimetype": "text/x-python",
   "name": "python",
   "nbconvert_exporter": "python",
   "pygments_lexer": "ipython3",
   "version": "3.10.6"
  },
  "orig_nbformat": 4
 },
 "nbformat": 4,
 "nbformat_minor": 2
}
