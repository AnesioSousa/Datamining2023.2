{
 "cells": [
  {
   "attachments": {},
   "cell_type": "markdown",
   "metadata": {},
   "source": [
    "<p>Universidade Estadual de Feira de Santana <br>\n",
    "Discente: Anésio Neto  <br>\n",
    "EXA 864 Mineração de Dados  <br>\n",
    "Angelo Loula</p>\n",
    "\n",
    "<h2 style=\"text-align: center;\">Atividade Computacional - Análise de Dados</h2>"
   ]
  },
  {
   "attachments": {},
   "cell_type": "markdown",
   "metadata": {},
   "source": [
    "<h4>0: Coisas a fazer antes de reponder as questões</h4>"
   ]
  },
  {
   "attachments": {},
   "cell_type": "markdown",
   "metadata": {},
   "source": [
    "https://onlinemathtools.com/find-all-divisors"
   ]
  },
  {
   "cell_type": "code",
   "execution_count": 3,
   "metadata": {},
   "outputs": [],
   "source": [
    "import pandas as pd\n",
    "import psutil"
   ]
  },
  {
   "attachments": {},
   "cell_type": "markdown",
   "metadata": {},
   "source": [
    "<li>Quanto de memória tenho disponivel (<code>em bytes</code>):</li>"
   ]
  },
  {
   "cell_type": "code",
   "execution_count": 4,
   "metadata": {},
   "outputs": [
    {
     "name": "stdout",
     "output_type": "stream",
     "text": [
      "545615872\n"
     ]
    }
   ],
   "source": [
    "svmem = psutil.virtual_memory()\n",
    "print(svmem.available)"
   ]
  },
  {
   "attachments": {},
   "cell_type": "markdown",
   "metadata": {},
   "source": [
    "<li>Quanto come cada chunk:</li>"
   ]
  },
  {
   "cell_type": "code",
   "execution_count": 34,
   "metadata": {},
   "outputs": [
    {
     "name": "stdout",
     "output_type": "stream",
     "text": [
      "6208\n"
     ]
    }
   ],
   "source": [
    "enemdf_sample = pd.read_csv('./MICRODADOS_ENEM_2022.csv', nrows=10, encoding='cp1252', delimiter=';')\n",
    "enemdf_sample_size = enemdf_sample.memory_usage(index=True).sum()\n",
    "print (enemdf_sample_size)"
   ]
  },
  {
   "cell_type": "code",
   "execution_count": 14,
   "metadata": {},
   "outputs": [
    {
     "name": "stdout",
     "output_type": "stream",
     "text": [
      "16.841556984617924\n"
     ]
    }
   ],
   "source": [
    "print((enemdf_sample_size/svmem.available)*100)"
   ]
  },
  {
   "cell_type": "code",
   "execution_count": 35,
   "metadata": {},
   "outputs": [
    {
     "name": "stdout",
     "output_type": "stream",
     "text": [
      "16108\n"
     ]
    }
   ],
   "source": [
    "# define a chunksize that would occupy a maximum of 1Gb\n",
    "# we divide by 10 because we have selected 10 lines in our df_sample\n",
    "my_chunk = (1000000000 / enemdf_sample_size)/10\n",
    "my_chunk = int(my_chunk//1)\n",
    "print (my_chunk)"
   ]
  },
  {
   "attachments": {},
   "cell_type": "markdown",
   "metadata": {},
   "source": [
    "https://g1.globo.com/ba/bahia/noticia/2023/06/28/censo-2022-bahia-mantem-4a-maior-populacao-do-pais-mas-cresce-abaixo-da-media-nacional.ghtml"
   ]
  },
  {
   "cell_type": "code",
   "execution_count": 7,
   "metadata": {},
   "outputs": [
    {
     "name": "stdout",
     "output_type": "stream",
     "text": [
      "was 23 times.\n"
     ]
    }
   ],
   "source": [
    "\"\"\"\n",
    "-------------------Cidades Escolhidas----------------\n",
    "2910800 - Feira de Santana\n",
    "2933307 - Vitória da Conquista\n",
    "2905701 - Camaçari\n",
    "2918407 - Juazeiro\n",
    "2919207 - Lauro de Freitas\n",
    "2914802 - Itabuna\n",
    "2913606 - Ilhéus\n",
    "2925303 - Porto Seguro\n",
    "\n",
    "3543402 - Ribeirão Preto\n",
    "\n",
    "-------------------Estados do Sudeste----------------\n",
    "31 - Minas Gerais\n",
    "32 - Vila Velha\n",
    "33 - Rio de Janeiro\n",
    "35 - São Paulo\n",
    "\n",
    "\"\"\"\n",
    "i = 0\n",
    "amgResultList = []\n",
    "for chunk in pd.read_csv('./MICRODADOS_ENEM_2022.csv', chunksize=151135, encoding='cp1252', delimiter=';'):\n",
    "    # concatenate according to a filter to our result dataframe\n",
    "    processed_chunk = chunk[chunk['CO_MUNICIPIO_PROVA'].astype(str).str.startswith('29')]\n",
    "    amgResultList.append(processed_chunk)\n",
    "    i+=1\n",
    "\n",
    "result_df = pd.concat(amgResultList, axis=0)\n",
    "result_df.to_csv('dataset.csv', index=False)\n",
    "print('was %d times.'%i)"
   ]
  },
  {
   "cell_type": "code",
   "execution_count": 11,
   "metadata": {},
   "outputs": [
    {
     "data": {
      "text/html": [
       "<div>\n",
       "<style scoped>\n",
       "    .dataframe tbody tr th:only-of-type {\n",
       "        vertical-align: middle;\n",
       "    }\n",
       "\n",
       "    .dataframe tbody tr th {\n",
       "        vertical-align: top;\n",
       "    }\n",
       "\n",
       "    .dataframe thead th {\n",
       "        text-align: right;\n",
       "    }\n",
       "</style>\n",
       "<table border=\"1\" class=\"dataframe\">\n",
       "  <thead>\n",
       "    <tr style=\"text-align: right;\">\n",
       "      <th></th>\n",
       "      <th>NU_INSCRICAO</th>\n",
       "      <th>NU_ANO</th>\n",
       "      <th>TP_FAIXA_ETARIA</th>\n",
       "      <th>TP_SEXO</th>\n",
       "      <th>TP_ESTADO_CIVIL</th>\n",
       "      <th>TP_COR_RACA</th>\n",
       "      <th>TP_NACIONALIDADE</th>\n",
       "      <th>TP_ST_CONCLUSAO</th>\n",
       "      <th>TP_ANO_CONCLUIU</th>\n",
       "      <th>TP_ESCOLA</th>\n",
       "      <th>...</th>\n",
       "      <th>Q016</th>\n",
       "      <th>Q017</th>\n",
       "      <th>Q018</th>\n",
       "      <th>Q019</th>\n",
       "      <th>Q020</th>\n",
       "      <th>Q021</th>\n",
       "      <th>Q022</th>\n",
       "      <th>Q023</th>\n",
       "      <th>Q024</th>\n",
       "      <th>Q025</th>\n",
       "    </tr>\n",
       "  </thead>\n",
       "  <tbody>\n",
       "    <tr>\n",
       "      <th>2</th>\n",
       "      <td>210055449344</td>\n",
       "      <td>2022</td>\n",
       "      <td>4</td>\n",
       "      <td>M</td>\n",
       "      <td>1</td>\n",
       "      <td>2</td>\n",
       "      <td>1</td>\n",
       "      <td>1</td>\n",
       "      <td>1</td>\n",
       "      <td>1</td>\n",
       "      <td>...</td>\n",
       "      <td>A</td>\n",
       "      <td>A</td>\n",
       "      <td>A</td>\n",
       "      <td>B</td>\n",
       "      <td>A</td>\n",
       "      <td>A</td>\n",
       "      <td>B</td>\n",
       "      <td>A</td>\n",
       "      <td>B</td>\n",
       "      <td>B</td>\n",
       "    </tr>\n",
       "    <tr>\n",
       "      <th>6</th>\n",
       "      <td>210056338475</td>\n",
       "      <td>2022</td>\n",
       "      <td>8</td>\n",
       "      <td>F</td>\n",
       "      <td>1</td>\n",
       "      <td>3</td>\n",
       "      <td>1</td>\n",
       "      <td>1</td>\n",
       "      <td>5</td>\n",
       "      <td>1</td>\n",
       "      <td>...</td>\n",
       "      <td>A</td>\n",
       "      <td>A</td>\n",
       "      <td>A</td>\n",
       "      <td>B</td>\n",
       "      <td>A</td>\n",
       "      <td>A</td>\n",
       "      <td>B</td>\n",
       "      <td>A</td>\n",
       "      <td>A</td>\n",
       "      <td>B</td>\n",
       "    </tr>\n",
       "    <tr>\n",
       "      <th>10</th>\n",
       "      <td>210054520678</td>\n",
       "      <td>2022</td>\n",
       "      <td>13</td>\n",
       "      <td>F</td>\n",
       "      <td>1</td>\n",
       "      <td>1</td>\n",
       "      <td>1</td>\n",
       "      <td>1</td>\n",
       "      <td>16</td>\n",
       "      <td>1</td>\n",
       "      <td>...</td>\n",
       "      <td>A</td>\n",
       "      <td>A</td>\n",
       "      <td>A</td>\n",
       "      <td>B</td>\n",
       "      <td>A</td>\n",
       "      <td>A</td>\n",
       "      <td>D</td>\n",
       "      <td>A</td>\n",
       "      <td>A</td>\n",
       "      <td>B</td>\n",
       "    </tr>\n",
       "    <tr>\n",
       "      <th>11</th>\n",
       "      <td>210056349699</td>\n",
       "      <td>2022</td>\n",
       "      <td>3</td>\n",
       "      <td>M</td>\n",
       "      <td>1</td>\n",
       "      <td>2</td>\n",
       "      <td>1</td>\n",
       "      <td>3</td>\n",
       "      <td>0</td>\n",
       "      <td>1</td>\n",
       "      <td>...</td>\n",
       "      <td>A</td>\n",
       "      <td>A</td>\n",
       "      <td>A</td>\n",
       "      <td>B</td>\n",
       "      <td>B</td>\n",
       "      <td>A</td>\n",
       "      <td>C</td>\n",
       "      <td>A</td>\n",
       "      <td>A</td>\n",
       "      <td>B</td>\n",
       "    </tr>\n",
       "    <tr>\n",
       "      <th>14</th>\n",
       "      <td>210057703725</td>\n",
       "      <td>2022</td>\n",
       "      <td>5</td>\n",
       "      <td>F</td>\n",
       "      <td>1</td>\n",
       "      <td>3</td>\n",
       "      <td>1</td>\n",
       "      <td>1</td>\n",
       "      <td>3</td>\n",
       "      <td>1</td>\n",
       "      <td>...</td>\n",
       "      <td>A</td>\n",
       "      <td>A</td>\n",
       "      <td>A</td>\n",
       "      <td>B</td>\n",
       "      <td>A</td>\n",
       "      <td>A</td>\n",
       "      <td>B</td>\n",
       "      <td>A</td>\n",
       "      <td>A</td>\n",
       "      <td>A</td>\n",
       "    </tr>\n",
       "    <tr>\n",
       "      <th>...</th>\n",
       "      <td>...</td>\n",
       "      <td>...</td>\n",
       "      <td>...</td>\n",
       "      <td>...</td>\n",
       "      <td>...</td>\n",
       "      <td>...</td>\n",
       "      <td>...</td>\n",
       "      <td>...</td>\n",
       "      <td>...</td>\n",
       "      <td>...</td>\n",
       "      <td>...</td>\n",
       "      <td>...</td>\n",
       "      <td>...</td>\n",
       "      <td>...</td>\n",
       "      <td>...</td>\n",
       "      <td>...</td>\n",
       "      <td>...</td>\n",
       "      <td>...</td>\n",
       "      <td>...</td>\n",
       "      <td>...</td>\n",
       "      <td>...</td>\n",
       "    </tr>\n",
       "    <tr>\n",
       "      <th>265157</th>\n",
       "      <td>210055446980</td>\n",
       "      <td>2022</td>\n",
       "      <td>5</td>\n",
       "      <td>F</td>\n",
       "      <td>1</td>\n",
       "      <td>2</td>\n",
       "      <td>1</td>\n",
       "      <td>2</td>\n",
       "      <td>0</td>\n",
       "      <td>2</td>\n",
       "      <td>...</td>\n",
       "      <td>A</td>\n",
       "      <td>A</td>\n",
       "      <td>A</td>\n",
       "      <td>B</td>\n",
       "      <td>A</td>\n",
       "      <td>A</td>\n",
       "      <td>A</td>\n",
       "      <td>A</td>\n",
       "      <td>B</td>\n",
       "      <td>B</td>\n",
       "    </tr>\n",
       "    <tr>\n",
       "      <th>265158</th>\n",
       "      <td>210056808037</td>\n",
       "      <td>2022</td>\n",
       "      <td>9</td>\n",
       "      <td>M</td>\n",
       "      <td>1</td>\n",
       "      <td>2</td>\n",
       "      <td>1</td>\n",
       "      <td>1</td>\n",
       "      <td>0</td>\n",
       "      <td>1</td>\n",
       "      <td>...</td>\n",
       "      <td>A</td>\n",
       "      <td>A</td>\n",
       "      <td>A</td>\n",
       "      <td>B</td>\n",
       "      <td>A</td>\n",
       "      <td>A</td>\n",
       "      <td>B</td>\n",
       "      <td>B</td>\n",
       "      <td>A</td>\n",
       "      <td>B</td>\n",
       "    </tr>\n",
       "    <tr>\n",
       "      <th>265159</th>\n",
       "      <td>210055390251</td>\n",
       "      <td>2022</td>\n",
       "      <td>2</td>\n",
       "      <td>F</td>\n",
       "      <td>1</td>\n",
       "      <td>3</td>\n",
       "      <td>1</td>\n",
       "      <td>2</td>\n",
       "      <td>0</td>\n",
       "      <td>2</td>\n",
       "      <td>...</td>\n",
       "      <td>A</td>\n",
       "      <td>A</td>\n",
       "      <td>A</td>\n",
       "      <td>B</td>\n",
       "      <td>A</td>\n",
       "      <td>A</td>\n",
       "      <td>B</td>\n",
       "      <td>A</td>\n",
       "      <td>A</td>\n",
       "      <td>B</td>\n",
       "    </tr>\n",
       "    <tr>\n",
       "      <th>265162</th>\n",
       "      <td>210054731881</td>\n",
       "      <td>2022</td>\n",
       "      <td>1</td>\n",
       "      <td>M</td>\n",
       "      <td>1</td>\n",
       "      <td>3</td>\n",
       "      <td>1</td>\n",
       "      <td>2</td>\n",
       "      <td>0</td>\n",
       "      <td>3</td>\n",
       "      <td>...</td>\n",
       "      <td>B</td>\n",
       "      <td>A</td>\n",
       "      <td>A</td>\n",
       "      <td>B</td>\n",
       "      <td>A</td>\n",
       "      <td>A</td>\n",
       "      <td>C</td>\n",
       "      <td>A</td>\n",
       "      <td>B</td>\n",
       "      <td>B</td>\n",
       "    </tr>\n",
       "    <tr>\n",
       "      <th>265165</th>\n",
       "      <td>210054829833</td>\n",
       "      <td>2022</td>\n",
       "      <td>14</td>\n",
       "      <td>M</td>\n",
       "      <td>1</td>\n",
       "      <td>1</td>\n",
       "      <td>1</td>\n",
       "      <td>1</td>\n",
       "      <td>16</td>\n",
       "      <td>1</td>\n",
       "      <td>...</td>\n",
       "      <td>B</td>\n",
       "      <td>A</td>\n",
       "      <td>B</td>\n",
       "      <td>A</td>\n",
       "      <td>A</td>\n",
       "      <td>A</td>\n",
       "      <td>B</td>\n",
       "      <td>A</td>\n",
       "      <td>B</td>\n",
       "      <td>B</td>\n",
       "    </tr>\n",
       "  </tbody>\n",
       "</table>\n",
       "<p>108477 rows × 76 columns</p>\n",
       "</div>"
      ],
      "text/plain": [
       "        NU_INSCRICAO  NU_ANO  TP_FAIXA_ETARIA TP_SEXO  TP_ESTADO_CIVIL  \\\n",
       "2       210055449344    2022                4       M                1   \n",
       "6       210056338475    2022                8       F                1   \n",
       "10      210054520678    2022               13       F                1   \n",
       "11      210056349699    2022                3       M                1   \n",
       "14      210057703725    2022                5       F                1   \n",
       "...              ...     ...              ...     ...              ...   \n",
       "265157  210055446980    2022                5       F                1   \n",
       "265158  210056808037    2022                9       M                1   \n",
       "265159  210055390251    2022                2       F                1   \n",
       "265162  210054731881    2022                1       M                1   \n",
       "265165  210054829833    2022               14       M                1   \n",
       "\n",
       "        TP_COR_RACA  TP_NACIONALIDADE  TP_ST_CONCLUSAO  TP_ANO_CONCLUIU  \\\n",
       "2                 2                 1                1                1   \n",
       "6                 3                 1                1                5   \n",
       "10                1                 1                1               16   \n",
       "11                2                 1                3                0   \n",
       "14                3                 1                1                3   \n",
       "...             ...               ...              ...              ...   \n",
       "265157            2                 1                2                0   \n",
       "265158            2                 1                1                0   \n",
       "265159            3                 1                2                0   \n",
       "265162            3                 1                2                0   \n",
       "265165            1                 1                1               16   \n",
       "\n",
       "        TP_ESCOLA  ...  Q016  Q017  Q018 Q019  Q020 Q021  Q022  Q023  Q024  \\\n",
       "2               1  ...     A     A     A    B     A    A     B     A     B   \n",
       "6               1  ...     A     A     A    B     A    A     B     A     A   \n",
       "10              1  ...     A     A     A    B     A    A     D     A     A   \n",
       "11              1  ...     A     A     A    B     B    A     C     A     A   \n",
       "14              1  ...     A     A     A    B     A    A     B     A     A   \n",
       "...           ...  ...   ...   ...   ...  ...   ...  ...   ...   ...   ...   \n",
       "265157          2  ...     A     A     A    B     A    A     A     A     B   \n",
       "265158          1  ...     A     A     A    B     A    A     B     B     A   \n",
       "265159          2  ...     A     A     A    B     A    A     B     A     A   \n",
       "265162          3  ...     B     A     A    B     A    A     C     A     B   \n",
       "265165          1  ...     B     A     B    A     A    A     B     A     B   \n",
       "\n",
       "        Q025  \n",
       "2          B  \n",
       "6          B  \n",
       "10         B  \n",
       "11         B  \n",
       "14         A  \n",
       "...      ...  \n",
       "265157     B  \n",
       "265158     B  \n",
       "265159     B  \n",
       "265162     B  \n",
       "265165     B  \n",
       "\n",
       "[108477 rows x 76 columns]"
      ]
     },
     "execution_count": 11,
     "metadata": {},
     "output_type": "execute_result"
    }
   ],
   "source": [
    "\n",
    "dataset = pd.read_csv('./bahia.csv')\n",
    "#b = a['NO_MUNICIPIO_PROVA'].unique()\n",
    "\n",
    "municipios = [2910800, 2933307, 2905701, 2918407, 2919207, 2914802, 2913606, 2925303] \n",
    "df_filtrado = dataset[dataset['CO_MUNICIPIO_PROVA'].isin(municipios)]\n",
    "df_filtrado"
   ]
  },
  {
   "cell_type": "code",
   "execution_count": 26,
   "metadata": {},
   "outputs": [],
   "source": [
    "dataset = pd.read_csv('./MICRODADOS_ENEM_2022.csv', encoding='cp1252', nrows=100000, delimiter=';')\n"
   ]
  },
  {
   "cell_type": "code",
   "execution_count": 39,
   "metadata": {},
   "outputs": [
    {
     "data": {
      "text/plain": [
       "356      3543402\n",
       "1728     3543402\n",
       "2173     3543402\n",
       "2254     3543402\n",
       "2626     3543402\n",
       "          ...   \n",
       "98877    3543402\n",
       "99344    3543402\n",
       "99378    3543402\n",
       "99547    3543402\n",
       "99762    3543402\n",
       "Name: CO_MUNICIPIO_PROVA, Length: 354, dtype: int64"
      ]
     },
     "execution_count": 39,
     "metadata": {},
     "output_type": "execute_result"
    }
   ],
   "source": [
    "#filtered = dataset[dataset['NO_MUNICIPIO_PROVA'] == 'Salvador']\n",
    "filtered = dataset[dataset['CO_MUNICIPIO_PROVA'].astype(str).str.startswith('35')]\n",
    "filtered['NO_MUNICIPIO_PROVA'].unique()\n",
    "filtered[filtered['NO_MUNICIPIO_PROVA'] == \"Ribeirão Preto\"]['CO_MUNICIPIO_PROVA']"
   ]
  },
  {
   "cell_type": "code",
   "execution_count": 19,
   "metadata": {},
   "outputs": [
    {
     "data": {
      "text/plain": [
       "array([], dtype=object)"
      ]
     },
     "execution_count": 19,
     "metadata": {},
     "output_type": "execute_result"
    }
   ],
   "source": [
    "bahia_df = pd.read_csv('./bahia.csv')\n",
    "filtered = bahia_df[bahia_df['CO_MUNICIPIO_PROVA'].astype(str).str.startswith('')]\n",
    "filtered['NO_MUNICIPIO_PROVA'].unique()"
   ]
  },
  {
   "attachments": {},
   "cell_type": "markdown",
   "metadata": {},
   "source": [
    "<h4><span>1</span>: Filtragem e amostragem dos dados</h4>"
   ]
  },
  {
   "attachments": {},
   "cell_type": "markdown",
   "metadata": {},
   "source": [
    "COMO CONSEGUI CONHECER OS DADOS RELACIONADOS À QUESTÃO:"
   ]
  },
  {
   "attachments": {},
   "cell_type": "markdown",
   "metadata": {},
   "source": [
    "\n",
    "<p>-------------------Regiões do Brasil----------------\n",
    " <ol>\n",
    "    <li>NORTE</li>\n",
    "    <li>NORDESTE</li>\n",
    "    <li>SUDESTE</li>\n",
    "    <li>SUL</li>\n",
    "    <li>CENTRO-OESTE</li>\n",
    " </ol>\n",
    "</p>\n",
    "<p>-------------------Estados do Nordeste----------------\n",
    "    <ol start=\"21\">\n",
    "       <li>MARANHÃO</li>\n",
    "       <li>PIAUÍ</li>\n",
    "       <li>CEARÁ</li>\n",
    "       <li>RIO GRANDE DO NORTE</li>\n",
    "       <li>PARAÍBA</li>\n",
    "       <li>PERNAMBUCO</li>\n",
    "       <li>ALAGOAS</li>\n",
    "       <li>SERGIPE</li>\n",
    "       <li>BAHIA</li>\n",
    "    </ol>\n",
    "</p>"
   ]
  }
 ],
 "metadata": {
  "kernelspec": {
   "display_name": "Python 3",
   "language": "python",
   "name": "python3"
  },
  "language_info": {
   "codemirror_mode": {
    "name": "ipython",
    "version": 3
   },
   "file_extension": ".py",
   "mimetype": "text/x-python",
   "name": "python",
   "nbconvert_exporter": "python",
   "pygments_lexer": "ipython3",
   "version": "3.10.6"
  },
  "orig_nbformat": 4
 },
 "nbformat": 4,
 "nbformat_minor": 2
}
